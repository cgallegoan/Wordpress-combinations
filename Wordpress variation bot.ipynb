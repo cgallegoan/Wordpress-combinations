{
 "cells": [
  {
   "cell_type": "markdown",
   "metadata": {},
   "source": [
    "# Specifically built for Espejoled.com"
   ]
  },
  {
   "cell_type": "code",
   "execution_count": 3,
   "metadata": {},
   "outputs": [],
   "source": [
    "from itertools import product\n",
    "from selenium.webdriver.common.keys import Keys\n",
    "from selenium.webdriver import Chrome\n",
    "from selenium.webdriver import ActionChains\n",
    "from selenium.webdriver.support.ui import Select\n",
    "from selenium.webdriver.common.by import By\n",
    "from selenium.webdriver.support.ui import WebDriverWait\n",
    "from selenium.webdriver.support import expected_conditions as EC\n",
    "driver = Chrome('./chromedriver')\n",
    "driver.get('https://espejoled.es/wp-admin/')"
   ]
  },
  {
   "cell_type": "markdown",
   "metadata": {},
   "source": [
    "Size combinations"
   ]
  },
  {
   "cell_type": "code",
   "execution_count": 4,
   "metadata": {},
   "outputs": [
    {
     "data": {
      "text/plain": [
       "{('60CM', '60CM'): 50,\n",
       " ('60CM', '80CM'): 50,\n",
       " ('60CM', '100CM'): 50,\n",
       " ('60CM', '120CM'): 50,\n",
       " ('80CM', '60CM'): 50,\n",
       " ('80CM', '80CM'): 50,\n",
       " ('80CM', '100CM'): 50,\n",
       " ('80CM', '120CM'): 50,\n",
       " ('100CM', '60CM'): 50,\n",
       " ('100CM', '80CM'): 50,\n",
       " ('100CM', '100CM'): 50,\n",
       " ('100CM', '120CM'): 50,\n",
       " ('120CM', '60CM'): 50,\n",
       " ('120CM', '80CM'): 50,\n",
       " ('120CM', '100CM'): 50,\n",
       " ('120CM', '120CM'): 50}"
      ]
     },
     "execution_count": 4,
     "metadata": {},
     "output_type": "execute_result"
    }
   ],
   "source": [
    "list1 = ['60CM','80CM','100CM', '120CM']\n",
    "list2 = ['60CM','80CM','100CM','120CM']\n",
    "list3 = [list1, list2]\n",
    "dic = {p: 50 for p in product(*list3)}\n",
    "dic"
   ]
  },
  {
   "cell_type": "markdown",
   "metadata": {},
   "source": [
    "For each product, indicate the base price (without additions)"
   ]
  },
  {
   "cell_type": "code",
   "execution_count": 5,
   "metadata": {},
   "outputs": [
    {
     "data": {
      "text/plain": [
       "{('60CM', '60CM'): 173.57,\n",
       " ('60CM', '80CM'): 187.47,\n",
       " ('60CM', '100CM'): 198.86,\n",
       " ('60CM', '120CM'): 216.2,\n",
       " ('80CM', '60CM'): 187.47,\n",
       " ('80CM', '80CM'): 200.94,\n",
       " ('80CM', '100CM'): 214.44,\n",
       " ('80CM', '120CM'): 265.44,\n",
       " ('100CM', '60CM'): 198.86,\n",
       " ('100CM', '80CM'): 214.44,\n",
       " ('100CM', '100CM'): 285.51,\n",
       " ('100CM', '120CM'): 309.05,\n",
       " ('120CM', '60CM'): 216.2,\n",
       " ('120CM', '80CM'): 265.44,\n",
       " ('120CM', '100CM'): 309.05,\n",
       " ('120CM', '120CM'): 0}"
      ]
     },
     "execution_count": 5,
     "metadata": {},
     "output_type": "execute_result"
    }
   ],
   "source": [
    "#cleome\n",
    "dic[('60CM', '60CM')] = 173.57\n",
    "dic[('60CM', '80CM')] = 187.47 \n",
    "dic[('60CM', '100CM')] = 198.86 \n",
    "dic[('60CM', '120CM')] = 216.20\n",
    "dic[('80CM', '60CM')] = 187.47\n",
    "dic[('80CM', '80CM')] = 200.94 \n",
    "dic[('80CM', '100CM')] = 214.44\n",
    "dic[('80CM', '120CM')] = 265.44\n",
    "dic[('100CM', '60CM')] = 198.86 \n",
    "dic[('100CM', '80CM')] = 214.44 \n",
    "dic[('100CM', '100CM')] = 285.51\n",
    "dic[('100CM', '120CM')] = 309.05\n",
    "dic[('120CM', '60CM')] = 216.20\n",
    "dic[('120CM', '80CM')] = 265.44 \n",
    "dic[('120CM', '100CM')] = 309.05\n",
    "dic[('120CM', '120CM')] = 0\n",
    "dic"
   ]
  },
  {
   "cell_type": "code",
   "execution_count": 11,
   "metadata": {},
   "outputs": [],
   "source": [
    "#bidens\n",
    "dic[('60CM', '60CM')] = 164.10\n",
    "dic[('60CM', '80CM')] = 176.47\n",
    "dic[('60CM', '100CM')] = 191.45\n",
    "dic[('60CM', '120CM')] = 210.25\n",
    "dic[('80CM', '60CM')] = 176.47\n",
    "dic[('80CM', '80CM')] = 188.14\n",
    "dic[('80CM', '100CM')] = 205.2\n",
    "dic[('80CM', '120CM')] = 287.52\n",
    "dic[('100CM', '60CM')] = 199.49\n",
    "dic[('100CM', '80CM')] = 213.89\n",
    "dic[('100CM', '100CM')] = 284.73\n",
    "dic[('100CM', '120CM')] = 299.12\n",
    "dic[('120CM', '60CM')] = 210.25 \n",
    "dic[('120CM', '80CM')] = 257.49 \n",
    "dic[('120CM', '100CM')] = 299.12\n",
    "dic[('120CM', '120CM')] = 0"
   ]
  },
  {
   "cell_type": "code",
   "execution_count": 24,
   "metadata": {},
   "outputs": [],
   "source": [
    "#Cedrus\n",
    "dic[('60CM', '60CM')] = 185.34\n",
    "dic[('60CM', '80CM')] = 203.74 \n",
    "dic[('60CM', '100CM')] = 249.10 \n",
    "dic[('60CM', '120CM')] = 287.07\n",
    "dic[('80CM', '60CM')] = 203.74\n",
    "dic[('80CM', '80CM')] = 223.58 \n",
    "dic[('80CM', '100CM')] = 275.14\n",
    "dic[('80CM', '120CM')] = 351.11\n",
    "dic[('100CM', '60CM')] = 249.10 \n",
    "dic[('100CM', '80CM')] = 275.76 \n",
    "dic[('100CM', '100CM')] = 356.65 \n",
    "dic[('100CM', '120CM')] = 409.52 \n",
    "dic[('120CM', '60CM')] = 287.07 \n",
    "dic[('120CM', '80CM')] = 351.11\n",
    "dic[('120CM', '100CM')] = 409.52 \n",
    "dic[('120CM', '120CM')] = 0"
   ]
  },
  {
   "cell_type": "code",
   "execution_count": 9,
   "metadata": {},
   "outputs": [],
   "source": [
    "#Ares\n",
    "dic[('60CM', '60CM')] = 164.10\n",
    "dic[('60CM', '80CM')] = 176.47  \n",
    "dic[('60CM', '100CM')] = 191.45  \n",
    "dic[('60CM', '120CM')] = 210.25 \n",
    "dic[('80CM', '60CM')] = 176.47 \n",
    "dic[('80CM', '80CM')] = 188.14 \n",
    "dic[('80CM', '100CM')] = 205.20 \n",
    "dic[('80CM', '120CM')] = 257.49 \n",
    "dic[('100CM', '60CM')] = 199.49\n",
    "dic[('100CM', '80CM')] = 213.89 \n",
    "dic[('100CM', '100CM')] = 284.73\n",
    "dic[('100CM', '120CM')] = 299.12  \n",
    "dic[('120CM', '60CM')] = 210.25 \n",
    "dic[('120CM', '80CM')] = 257.49 \n",
    "dic[('120CM', '100CM')] = 299.12 \n",
    "dic[('120CM', '120CM')] = 0"
   ]
  },
  {
   "cell_type": "code",
   "execution_count": 40,
   "metadata": {},
   "outputs": [],
   "source": [
    "#Nusa\n",
    "dic[('60CM', '60CM')] = 176.22 \n",
    "dic[('60CM', '80CM')] = 195.09   \n",
    "dic[('60CM', '100CM')] = 225.64   \n",
    "dic[('60CM', '120CM')] = 260.89  \n",
    "dic[('80CM', '60CM')] = 195.09  \n",
    "dic[('80CM', '80CM')] = 215.74 \n",
    "dic[('80CM', '100CM')] = 252.07  \n",
    "dic[('80CM', '120CM')] = 325.01 \n",
    "dic[('100CM', '60CM')] = 225.64 \n",
    "dic[('100CM', '80CM')] = 252.07  \n",
    "dic[('100CM', '100CM')] = 332.71 \n",
    "dic[('100CM', '120CM')] = 383.51  \n",
    "dic[('120CM', '60CM')] = 260.89 \n",
    "dic[('120CM', '80CM')] = 325.01 \n",
    "dic[('120CM', '100CM')] = 383.51  \n",
    "dic[('120CM', '120CM')] = 0"
   ]
  },
  {
   "cell_type": "code",
   "execution_count": 11,
   "metadata": {},
   "outputs": [
    {
     "data": {
      "text/plain": [
       "{('60CM', '60CM'): 164.1,\n",
       " ('60CM', '80CM'): 176.47,\n",
       " ('60CM', '100CM'): 191.45,\n",
       " ('60CM', '120CM'): 210.25,\n",
       " ('80CM', '60CM'): 176.47,\n",
       " ('80CM', '80CM'): 188.14,\n",
       " ('80CM', '100CM'): 205.2,\n",
       " ('80CM', '120CM'): 257.49,\n",
       " ('100CM', '60CM'): 199.49,\n",
       " ('100CM', '80CM'): 213.89,\n",
       " ('100CM', '100CM'): 284.73,\n",
       " ('100CM', '120CM'): 299.12,\n",
       " ('120CM', '60CM'): 210.25,\n",
       " ('120CM', '80CM'): 257.49,\n",
       " ('120CM', '100CM'): 299.12,\n",
       " ('120CM', '120CM'): 0,\n",
       " '50CM': 170.2,\n",
       " '60CM': 178.49,\n",
       " '70CM': 189.5,\n",
       " '80CM': 206.64,\n",
       " '90CM': 223.69,\n",
       " '100CM': 262.19}"
      ]
     },
     "execution_count": 11,
     "metadata": {},
     "output_type": "execute_result"
    }
   ],
   "source": [
    "#Dian\n",
    "dic[('50CM')] = 170.20\n",
    "dic[('60CM')] = 178.49\n",
    "dic[('70CM')] = 189.50\n",
    "dic[('80CM')] = 206.64\n",
    "dic[('90CM')] = 223.69\n",
    "dic[('100CM')] = 262.19\n",
    "dic"
   ]
  },
  {
   "cell_type": "code",
   "execution_count": 61,
   "metadata": {},
   "outputs": [],
   "source": [
    "#Kale\n",
    "dic[('60CM', '60CM')] = 173.65  \n",
    "dic[('60CM', '80CM')] = 191.65    \n",
    "dic[('60CM', '100CM')] = 221.03    \n",
    "dic[('60CM', '120CM')] = 254.92  \n",
    "dic[('80CM', '60CM')] = 191.65   \n",
    "dic[('80CM', '80CM')] = 211.15  \n",
    "dic[('80CM', '100CM')] = 245.92   \n",
    "dic[('80CM', '120CM')] = 317.06 \n",
    "dic[('100CM', '60CM')] = 221.03  \n",
    "dic[('100CM', '80CM')] = 245.92  \n",
    "dic[('100CM', '100CM')] = 325.03 \n",
    "dic[('100CM', '120CM')] = 373.58   \n",
    "dic[('120CM', '60CM')] = 254.92 \n",
    "dic[('120CM', '80CM')] = 317.06\n",
    "dic[('120CM', '100CM')] = 373.58 \n",
    "dic[('120CM', '120CM')] = 0"
   ]
  },
  {
   "cell_type": "code",
   "execution_count": 18,
   "metadata": {},
   "outputs": [],
   "source": [
    "#Pina\n",
    "dic[('60CM', '60CM')] = 215.09   \n",
    "dic[('60CM', '80CM')] = 234.30     \n",
    "dic[('60CM', '100CM')] = 268.04     \n",
    "dic[('60CM', '120CM')] = 307.00   \n",
    "dic[('80CM', '60CM')] = 234.30  \n",
    "dic[('80CM', '80CM')] = 255.32  \n",
    "dic[('80CM', '100CM')] = 294.85   \n",
    "dic[('80CM', '120CM')] = 371.51 \n",
    "dic[('100CM', '60CM')] = 268.04   \n",
    "dic[('100CM', '80CM')] = 294.85  \n",
    "dic[('100CM', '100CM')] = 375.89  \n",
    "dic[('100CM', '120CM')] = 430.42    \n",
    "dic[('120CM', '60CM')] = 307.00 \n",
    "dic[('120CM', '80CM')] = 371.51\n",
    "dic[('120CM', '100CM')] = 430.42 \n",
    "dic[('120CM', '120CM')] = 0"
   ]
  },
  {
   "cell_type": "code",
   "execution_count": 28,
   "metadata": {},
   "outputs": [],
   "source": [
    "#Areca B\n",
    "dic[('60CM', '60CM')] = 145.97   \n",
    "dic[('60CM', '80CM')] = 160.03      \n",
    "dic[('60CM', '100CM')] = 177.16      \n",
    "dic[('80CM', '60CM')] = 158.56  \n",
    "dic[('80CM', '80CM')] = 175.92  \n",
    "dic[('80CM', '100CM')] = 196.78     \n",
    "dic[('100CM', '60CM')] = 186.96   \n",
    "dic[('100CM', '80CM')] = 204.09   \n",
    "dic[('100CM', '100CM')] = 247  \n",
    "dic[('120CM', '60CM')] = 214.56 \n",
    "dic[('120CM', '80CM')] = 236.31\n",
    "dic[('120CM', '100CM')] = 283.48 \n",
    "dic[('60CM', '120CM')] = 214.56 \n",
    "dic[('80CM', '120CM')] = 236.31\n",
    "dic[('100CM', '120CM')] = 283.48\n",
    "dic[('120CM', '120CM')] = 0 "
   ]
  },
  {
   "cell_type": "code",
   "execution_count": 32,
   "metadata": {},
   "outputs": [],
   "source": [
    "#Geo f/100\n",
    "dic[('60CM', '60CM')] = 145.97   \n",
    "dic[('60CM', '80CM')] = 156.22       \n",
    "dic[('60CM', '100CM')] = 177.16      \n",
    "dic[('80CM', '60CM')] = 158.56  \n",
    "dic[('80CM', '80CM')] = 171.67   \n",
    "dic[('80CM', '100CM')] = 196.78     \n",
    "dic[('100CM', '60CM')] = 186.96   \n",
    "dic[('100CM', '80CM')] = 204.09   \n",
    "dic[('100CM', '100CM')] = 0  \n",
    "dic[('120CM', '60CM')] = 214.56 \n",
    "dic[('120CM', '80CM')] = 236.31\n",
    "dic[('120CM', '100CM')] = 283.48 \n",
    "dic[('60CM', '120CM')] = 214.56 \n",
    "dic[('80CM', '120CM')] = 236.31\n",
    "dic[('100CM', '120CM')] = 283.48\n",
    "dic[('120CM', '120CM')] = 0"
   ]
  },
  {
   "cell_type": "code",
   "execution_count": null,
   "metadata": {},
   "outputs": [],
   "source": [
    "#Hera f/100 / 200\n",
    "dic[('60CM', '60CM')] = 328.48   \n",
    "dic[('60CM', '80CM')] = 352.00       \n",
    "dic[('60CM', '100CM')] = 389.51       \n",
    "dic[('80CM', '60CM')] = 349.34   \n",
    "dic[('80CM', '80CM')] = 374.52    \n",
    "dic[('80CM', '100CM')] = 417.38      \n",
    "dic[('100CM', '60CM')] = 383.93  \n",
    "dic[('100CM', '80CM')] = 414.58  \n",
    "dic[('100CM', '100CM')] = 0  \n",
    "dic[('120CM', '60CM')] = 403.18 \n",
    "dic[('120CM', '80CM')] = 469.17 \n",
    "dic[('120CM', '100CM')] = 529.53  \n",
    "dic[('60CM', '120CM')] = 403.18\n",
    "dic[('80CM', '120CM')] = 471.86 \n",
    "dic[('100CM', '120CM')] = 529.53 \n",
    "dic[('120CM', '120CM')] = 0"
   ]
  },
  {
   "cell_type": "code",
   "execution_count": 5,
   "metadata": {},
   "outputs": [],
   "source": [
    "#Hollywood \n",
    "dic[('60CM', '60CM')] = 160.88    \n",
    "dic[('60CM', '80CM')] = 182.96      \n",
    "dic[('60CM', '100CM')] = 217.07      \n",
    "dic[('80CM', '60CM')] = 171.11   \n",
    "dic[('80CM', '80CM')] = 196.06     \n",
    "dic[('80CM', '100CM')] = 234.16       \n",
    "dic[('100CM', '60CM')] = 193.07   \n",
    "dic[('100CM', '80CM')] = 222.87  \n",
    "dic[('100CM', '100CM')] = 0  \n",
    "dic[('120CM', '60CM')] = 218.41  \n",
    "dic[('120CM', '80CM')] = 253.81 \n",
    "dic[('120CM', '100CM')] = 313.10 \n",
    "dic[('60CM', '120CM')] = 218.41\n",
    "dic[('80CM', '120CM')] = 253.81  \n",
    "dic[('100CM', '120CM')] = 313.10 \n",
    "dic[('120CM', '120CM')] = 0"
   ]
  },
  {
   "cell_type": "code",
   "execution_count": 37,
   "metadata": {},
   "outputs": [],
   "source": [
    "#Acer \n",
    "dic[('60CM', '60CM')] = 191.89     \n",
    "dic[('60CM', '80CM')] = 216.06      \n",
    "dic[('60CM', '100CM')] = 254.75     \n",
    "dic[('80CM', '60CM')] = 205.81  \n",
    "dic[('80CM', '80CM')] = 233.99    \n",
    "dic[('80CM', '100CM')] = 278.26       \n",
    "dic[('100CM', '60CM')] = 225.28   \n",
    "dic[('100CM', '80CM')] = 268.69   \n",
    "dic[('100CM', '100CM')] = 0  \n",
    "dic[('120CM', '60CM')] = 266.96  \n",
    "dic[('120CM', '80CM')] = 308.74  \n",
    "dic[('120CM', '100CM')] = 374.41 \n",
    "dic[('60CM', '120CM')] = 266.96  \n",
    "dic[('80CM', '120CM')] = 308.74  \n",
    "dic[('100CM', '120CM')] = 374.41  \n",
    "dic[('120CM', '120CM')] = 0"
   ]
  },
  {
   "cell_type": "code",
   "execution_count": 43,
   "metadata": {},
   "outputs": [],
   "source": [
    "#Innes \n",
    "dic[('60CM', '60CM')] = 185.34     \n",
    "dic[('60CM', '80CM')] = 203.75       \n",
    "dic[('60CM', '100CM')] = 249.10      \n",
    "dic[('80CM', '60CM')] = 203.75   \n",
    "dic[('80CM', '80CM')] = 223.58     \n",
    "dic[('80CM', '100CM')] = 275.76        \n",
    "dic[('100CM', '60CM')] = 249.10  \n",
    "dic[('100CM', '80CM')] = 275.76   \n",
    "dic[('100CM', '100CM')] = 0  \n",
    "dic[('120CM', '60CM')] = 287.07  \n",
    "dic[('120CM', '80CM')] = 351.11  \n",
    "dic[('120CM', '100CM')] = 409.52 \n",
    "dic[('60CM', '120CM')] = 287.07  \n",
    "dic[('80CM', '120CM')] = 351.11   \n",
    "dic[('100CM', '120CM')] = 409.52   \n",
    "dic[('120CM', '120CM')] = 0"
   ]
  },
  {
   "cell_type": "code",
   "execution_count": null,
   "metadata": {},
   "outputs": [],
   "source": [
    "#Mara\n",
    "dic[('60CM', '60CM')] = 160.99    \n",
    "dic[('60CM', '80CM')] = 171.46        \n",
    "dic[('60CM', '100CM')] = 193.72      \n",
    "dic[('80CM', '60CM')] = 173.01    \n",
    "dic[('80CM', '80CM')] = 186.34     \n",
    "dic[('80CM', '100CM')] = 212.73         \n",
    "dic[('100CM', '60CM')] = 201.82   \n",
    "dic[('100CM', '80CM')] = 219.18   \n",
    "dic[('100CM', '100CM')] = 0  \n",
    "dic[('120CM', '60CM')] = 229.90  \n",
    "dic[('120CM', '80CM')] = 235.13  \n",
    "dic[('120CM', '100CM')] = 299.33 \n",
    "dic[('60CM', '120CM')] = 201.82  \n",
    "dic[('80CM', '120CM')] = 235.13    \n",
    "dic[('100CM', '120CM')] = 299.33   \n",
    "dic[('120CM', '120CM')] = 0"
   ]
  },
  {
   "cell_type": "code",
   "execution_count": 53,
   "metadata": {},
   "outputs": [],
   "source": [
    "#Sil\n",
    "dic[('60CM', '60CM')] = 165.87     \n",
    "dic[('60CM', '80CM')] = 188.64        \n",
    "dic[('60CM', '100CM')] = 200.79      \n",
    "dic[('80CM', '60CM')] = 178.74    \n",
    "dic[('80CM', '80CM')] = 198.05      \n",
    "dic[('80CM', '100CM')] = 221.33          \n",
    "dic[('100CM', '60CM')] = 208.88    \n",
    "dic[('100CM', '80CM')] = 227.78    \n",
    "dic[('100CM', '100CM')] = 0  \n",
    "dic[('120CM', '60CM')] = 238.50   \n",
    "dic[('120CM', '80CM')] = 262.50   \n",
    "dic[('120CM', '100CM')] = 311.90 \n",
    "dic[('60CM', '120CM')] = 238.50  \n",
    "dic[('80CM', '120CM')] = 262.50    \n",
    "dic[('100CM', '120CM')] = 311.90   \n",
    "dic[('120CM', '120CM')] = 0"
   ]
  },
  {
   "cell_type": "code",
   "execution_count": 58,
   "metadata": {},
   "outputs": [],
   "source": [
    "#Areca\n",
    "dic[('60CM', '60CM')] = 130.46      \n",
    "dic[('60CM', '80CM')] = 139.07         \n",
    "dic[('60CM', '100CM')] = 157.01      \n",
    "dic[('80CM', '60CM')] = 143.31     \n",
    "dic[('80CM', '80CM')] = 154.35      \n",
    "dic[('80CM', '100CM')] = 176.45         \n",
    "dic[('100CM', '60CM')] = 165.65     \n",
    "dic[('100CM', '80CM')] = 181.02     \n",
    "dic[('100CM', '100CM')] = 0  \n",
    "dic[('120CM', '60CM')] = 187.02    \n",
    "dic[('120CM', '80CM')] = 206.87    \n",
    "dic[('120CM', '100CM')] = 252.14  \n",
    "dic[('60CM', '120CM')] = 187.02  \n",
    "dic[('80CM', '120CM')] = 206.87     \n",
    "dic[('100CM', '120CM')] = 252.14   \n",
    "dic[('120CM', '120CM')] = 0"
   ]
  },
  {
   "cell_type": "code",
   "execution_count": null,
   "metadata": {},
   "outputs": [],
   "source": [
    "#Cinta\n",
    "dic[('60CM', '60CM')] = 163.75      \n",
    "dic[('60CM', '80CM')] = 189.73          \n",
    "dic[('60CM', '100CM')] = 223.17      \n",
    "dic[('80CM', '60CM')] = 174.94      \n",
    "dic[('80CM', '80CM')] = 204.65       \n",
    "dic[('80CM', '100CM')] = 243.15         \n",
    "dic[('100CM', '60CM')] = 198.21      \n",
    "dic[('100CM', '80CM')] = 234.03      \n",
    "dic[('100CM', '100CM')] = 0  \n",
    "dic[('120CM', '60CM')] = 225.06     \n",
    "dic[('120CM', '80CM')] = 267.94    \n",
    "dic[('120CM', '100CM')] = 328.99  \n",
    "dic[('60CM', '120CM')] = 225.06   \n",
    "dic[('80CM', '120CM')] = 267.94      \n",
    "dic[('100CM', '120CM')] = 328.99    \n",
    "dic[('120CM', '120CM')] = 0"
   ]
  },
  {
   "cell_type": "code",
   "execution_count": 18,
   "metadata": {},
   "outputs": [],
   "source": [
    "#Sama\n",
    "dic[('60CM', '60CM')] = 168.63      \n",
    "dic[('60CM', '80CM')] = 198.13         \n",
    "dic[('60CM', '100CM')] = 230.90      \n",
    "dic[('80CM', '60CM')] = 185.94       \n",
    "dic[('80CM', '80CM')] = 215.10        \n",
    "dic[('80CM', '100CM')] = 252.60          \n",
    "dic[('100CM', '60CM')] = 206.89       \n",
    "dic[('100CM', '80CM')] = 241.31      \n",
    "dic[('100CM', '100CM')] = 0  \n",
    "dic[('120CM', '60CM')] = 236.26    \n",
    "dic[('120CM', '80CM')] = 277.63     \n",
    "dic[('120CM', '100CM')] = 342.89   \n",
    "dic[('60CM', '120CM')] = 236.26   \n",
    "dic[('80CM', '120CM')] = 277.63      \n",
    "dic[('100CM', '120CM')] = 342.89     \n",
    "dic[('120CM', '120CM')] = 0"
   ]
  },
  {
   "cell_type": "code",
   "execution_count": 10,
   "metadata": {},
   "outputs": [],
   "source": [
    "#Kone       60 si , no SdE           \n",
    "dic[('80CM', '80CM')] = 211.15         \n",
    "dic[('80CM', '100CM')] = 245.92                  \n",
    "dic[('100CM', '80CM')] = 245.92      \n",
    "dic[('100CM', '100CM')] = 0       \n",
    "dic[('120CM', '80CM')] = 342.07      \n",
    "dic[('120CM', '100CM')] = 472.95     \n",
    "dic[('80CM', '120CM')] = 342.07       \n",
    "dic[('100CM', '120CM')] = 472.95      \n",
    "dic[('120CM', '120CM')] = 0\n",
    "\n",
    "dic[('100CM', '60CM')] = 221.03 \n",
    "dic[('80CM', '60CM')] = 191.65 \n",
    "dic[('60CM', '60CM')] = 173.65 \n",
    "dic[('60CM', '80CM')] = 191.65  \n",
    "dic[('60CM', '100CM')] = 221.03 \n",
    "dic[('120CM', '60CM')] = 274.75  \n",
    "dic[('60CM', '120CM')] = 274.75  "
   ]
  },
  {
   "cell_type": "code",
   "execution_count": 27,
   "metadata": {},
   "outputs": [],
   "source": [
    "#Rodi         \n",
    "dic[('80CM', '80CM')] = 197.92          \n",
    "dic[('80CM', '100CM')] = 238.01                   \n",
    "dic[('100CM', '80CM')] = 228.44      \n",
    "dic[('100CM', '100CM')] = 0       \n",
    "dic[('120CM', '80CM')] = 263.66    \n",
    "dic[('120CM', '100CM')] = 326.92      \n",
    "dic[('80CM', '120CM')] = 263.66      \n",
    "dic[('100CM', '120CM')] = 326.92       \n",
    "dic[('120CM', '120CM')] = 0\n",
    "\n",
    "dic[('100CM', '60CM')] = 195.86 \n",
    "dic[('80CM', '60CM')] = 171.25  \n",
    "dic[('60CM', '60CM')] = 158.56  \n",
    "dic[('60CM', '80CM')] = 181.50  \n",
    "dic[('60CM', '100CM')] = 216.42 \n",
    "dic[('120CM', '60CM')] = 224.27   \n",
    "dic[('60CM', '120CM')] = 224.27  "
   ]
  },
  {
   "cell_type": "code",
   "execution_count": 58,
   "metadata": {},
   "outputs": [
    {
     "data": {
      "text/plain": [
       "{('60CM', '60CM'): 249.23,\n",
       " ('60CM', '80CM'): 232.42,\n",
       " ('60CM', '100CM'): 302.76,\n",
       " ('60CM', '120CM'): 343.4,\n",
       " ('80CM', '60CM'): 267.58,\n",
       " ('80CM', '80CM'): 263.95,\n",
       " ('80CM', '100CM'): 328.04,\n",
       " ('80CM', '120CM'): 406.6,\n",
       " ('100CM', '60CM'): 302.76,\n",
       " ('100CM', '80CM'): 286.02,\n",
       " ('100CM', '100CM'): 0,\n",
       " ('100CM', '120CM'): 463.4,\n",
       " ('120CM', '60CM'): 343.4,\n",
       " ('120CM', '80CM'): 406.6,\n",
       " ('120CM', '100CM'): 463.4,\n",
       " ('120CM', '120CM'): 0,\n",
       " '60CM': 295.16,\n",
       " '50CM': 275.7,\n",
       " '70CM': 307.99,\n",
       " '80CM': 335.58,\n",
       " '90CM': 363.35,\n",
       " '100CM': 414.35}"
      ]
     },
     "execution_count": 58,
     "metadata": {},
     "output_type": "execute_result"
    }
   ],
   "source": [
    "#Luna\n",
    "dic[('50CM')] = 275.70 \n",
    "dic[('60CM')] = 295.16 \n",
    "dic[('70CM')] = 307.99 \n",
    "dic[('80CM')] = 335.58 \n",
    "dic[('90CM')] = 363.35 \n",
    "dic[('100CM')] = 414.35 \n",
    "dic"
   ]
  },
  {
   "cell_type": "code",
   "execution_count": 49,
   "metadata": {},
   "outputs": [],
   "source": [
    "#Eros // sin infrarrojo/ sin regulador\n",
    "dic[('60CM', '80CM')] = 387.58 "
   ]
  },
  {
   "cell_type": "code",
   "execution_count": null,
   "metadata": {},
   "outputs": [],
   "source": [
    "#Marco mosaico // sin accesorios\n",
    "dic[('80CM')] = 310.37 "
   ]
  },
  {
   "cell_type": "code",
   "execution_count": null,
   "metadata": {},
   "outputs": [],
   "source": [
    "#Bambu // sin infrarrojo\n",
    "dic[('60CM')] = 377.28 "
   ]
  },
  {
   "cell_type": "code",
   "execution_count": 45,
   "metadata": {},
   "outputs": [],
   "source": [
    "#Lena blanco // sin infrarrojo\n",
    "dic[('60CM')] = 366.00 "
   ]
  },
  {
   "cell_type": "code",
   "execution_count": null,
   "metadata": {},
   "outputs": [],
   "source": [
    "#Lena negro // sin infrarrojo\n",
    "dic[('60CM')] = 375.61  "
   ]
  },
  {
   "cell_type": "code",
   "execution_count": 53,
   "metadata": {},
   "outputs": [],
   "source": [
    "#Aluminium //sin infrarrojo, regulador\n",
    "dic[('80CM', '80CM')] = 263.95 \n",
    "dic[('100CM', '80CM')] = 286.02 \n",
    "dic[('60CM', '80CM')] = 232.42  "
   ]
  },
  {
   "cell_type": "code",
   "execution_count": 85,
   "metadata": {},
   "outputs": [
    {
     "data": {
      "text/plain": [
       "{('60CM', '60CM'): 249.23,\n",
       " ('60CM', '80CM'): 267.58,\n",
       " ('60CM', '100CM'): 302.76,\n",
       " ('60CM', '120CM'): 343.4,\n",
       " ('80CM', '60CM'): 267.58,\n",
       " ('80CM', '80CM'): 287.45,\n",
       " ('80CM', '100CM'): 328.04,\n",
       " ('80CM', '120CM'): 406.6,\n",
       " ('100CM', '60CM'): 302.76,\n",
       " ('100CM', '80CM'): 328.04,\n",
       " ('100CM', '100CM'): 0,\n",
       " ('100CM', '120CM'): 463.4,\n",
       " ('120CM', '60CM'): 343.4,\n",
       " ('120CM', '80CM'): 406.6,\n",
       " ('120CM', '100CM'): 463.4,\n",
       " ('120CM', '120CM'): 0,\n",
       " '60CM': 295.16,\n",
       " '50CM': 275.7,\n",
       " '70CM': 307.99,\n",
       " '80CM': 335.58,\n",
       " '90CM': 363.35,\n",
       " '100CM': 414.35}"
      ]
     },
     "execution_count": 85,
     "metadata": {},
     "output_type": "execute_result"
    }
   ],
   "source": [
    "#Tria\n",
    "dic[('60CM', '60CM')] = 249.23      \n",
    "dic[('60CM', '80CM')] = 267.58          \n",
    "dic[('60CM', '100CM')] = 302.76     \n",
    "dic[('80CM', '60CM')] = 267.58   \n",
    "dic[('80CM', '80CM')] = 287.45    \n",
    "dic[('80CM', '100CM')] = 328.04      \n",
    "dic[('100CM', '60CM')] = 302.76      \n",
    "dic[('100CM', '80CM')] = 328.04     \n",
    "dic[('100CM', '100CM')] = 0\n",
    "dic[('120CM', '60CM')] =  343.40  \n",
    "dic[('120CM', '80CM')] = 406.60 \n",
    "dic[('120CM', '100CM')] = 463.40\n",
    "dic[('60CM', '120CM')] = 343.40  \n",
    "dic[('80CM', '120CM')] = 406.60     \n",
    "dic[('100CM', '120CM')] = 463.40    \n",
    "dic[('120CM', '120CM')] = 0\n",
    "dic"
   ]
  },
  {
   "cell_type": "markdown",
   "metadata": {},
   "source": [
    "Other additions depending on the product (here they are a led mirrors)"
   ]
  },
  {
   "cell_type": "code",
   "execution_count": 6,
   "metadata": {},
   "outputs": [],
   "source": [
    "SdE = {'No':0,'Si- Sensor infrarrojo':37,'Si- Sensor táctil':30,'Si- Sensor táctil con regulador':35}\n",
    "LA = {'No':0,'Si- sin sensor':27,'Si- con sensor táctil':60}\n",
    "EAA = {'No':0,'Sin luz':48,'Con luz':86,'Con luz y sensor on/off':105}\n",
    "#AB = {'No':0,'Si- con sensor on/off':72}\n",
    "normal = True\n",
    "def get_Medida(dic, i):\n",
    "    if normal:\n",
    "        medida_ancho = Select(driver.find_element_by_name(f'attribute_pa_ancho[{i}]')).first_selected_option.text\n",
    "        medida_alto = Select(driver.find_element_by_name(f'attribute_pa_alto[{i}]')).first_selected_option.text\n",
    "        if dic[(medida_ancho, medida_alto)] == 0:\n",
    "            driver.execute_script(\"arguments[0].click();\", driver.find_elements_by_class_name('remove_variation.delete')[i])\n",
    "            WebDriverWait(driver, 10).until(EC.alert_is_present())\n",
    "            driver.switch_to.alert.accept()\n",
    "        return (dic[(medida_ancho, medida_alto)])\n",
    "        \n",
    "    else:\n",
    "        diametro = Select(driver.find_element_by_name(f'attribute_pa_diametro[{i}]')).first_selected_option.text\n",
    "        return (dic[(diametro)])\n",
    "def get_SdE(SdE, i):\n",
    "    option_SdE = Select(driver.find_element_by_name(f'attribute_pa_sensor-de-encendido[{i}]')).first_selected_option.text\n",
    "    return SdE[option_SdE]\n",
    "def get_LA(LA, i):\n",
    "    option_LA = Select(driver.find_element_by_name(f'attribute_pa_lamina-antivaho[{i}]')).first_selected_option.text\n",
    "    return LA[option_LA]\n",
    "def get_EAA(EAA, i):\n",
    "    option_EAA = Select(driver.find_element_by_name(f'attribute_pa_espejo-con-aumento[{i}]')).first_selected_option.text\n",
    "    return EAA[option_EAA]\n",
    "def get_AB(AB, i):\n",
    "    option_AB = Select(driver.find_element_by_name(f'attribute_pa_altavoces-bluetooth[{i}]')).first_selected_option.text\n",
    "    return AB[option_AB]\n",
    "def eliminar(i):\n",
    "    driver.execute_script(\"arguments[0].click();\", driver.find_elements_by_class_name('remove_variation.delete')[i])\n",
    "    WebDriverWait(driver, 10).until(EC.alert_is_present())\n",
    "    driver.switch_to.alert.accept()\n",
    "    try:\n",
    "        WebDriverWait(driver, 5).until(EC.alert_is_present())\n",
    "        driver.switch_to.alert.accept()\n",
    "    except:\n",
    "        pass"
   ]
  },
  {
   "cell_type": "markdown",
   "metadata": {},
   "source": [
    "Calculate how many combinations of the products are there (informative), and to create the empty products to then reedit"
   ]
  },
  {
   "cell_type": "code",
   "execution_count": 55,
   "metadata": {},
   "outputs": [
    {
     "name": "stdout",
     "output_type": "stream",
     "text": [
      "Número de medidas (ancho): 1\n",
      "Número de medidas (alto): 3\n",
      "Este producto tiene  144 variaciones\n"
     ]
    }
   ],
   "source": [
    "n_variaciones = int(input('Número de medidas (ancho): ')) * int(input('Número de medidas (alto): '))\n",
    "import math \n",
    "v = n_variaciones * 3 * 4 * 4\n",
    "print('Este producto tiene ',v ,'variaciones')\n",
    "for n in range(math.ceil(v/50)):\n",
    "    Select(driver.find_element_by_id('field_to_edit')).select_by_index(1)\n",
    "    driver.execute_script(\"arguments[0].click();\", driver.find_element_by_class_name('button.bulk_edit.do_variation_action'))\n",
    "    WebDriverWait(driver, 10).until(EC.alert_is_present())\n",
    "    driver.switch_to.alert.accept()\n",
    "    WebDriverWait(driver, 10).until(EC.alert_is_present())\n",
    "    driver.switch_to.alert.accept()"
   ]
  },
  {
   "cell_type": "markdown",
   "metadata": {},
   "source": [
    "Cell to run code(after choosing product and running the functions cell)"
   ]
  },
  {
   "cell_type": "code",
   "execution_count": 59,
   "metadata": {
    "collapsed": true
   },
   "outputs": [
    {
     "ename": "KeyboardInterrupt",
     "evalue": "",
     "output_type": "error",
     "traceback": [
      "\u001b[1;31m---------------------------------------------------------------------------\u001b[0m",
      "\u001b[1;31mKeyboardInterrupt\u001b[0m                         Traceback (most recent call last)",
      "\u001b[1;32m<ipython-input-59-4daac3beab82>\u001b[0m in \u001b[0;36m<module>\u001b[1;34m\u001b[0m\n\u001b[0;32m     12\u001b[0m         \u001b[0mprice_desc\u001b[0m\u001b[1;33m.\u001b[0m\u001b[0mclear\u001b[0m\u001b[1;33m(\u001b[0m\u001b[1;33m)\u001b[0m\u001b[1;33m\u001b[0m\u001b[1;33m\u001b[0m\u001b[0m\n\u001b[0;32m     13\u001b[0m         \u001b[0mprice_desc\u001b[0m\u001b[1;33m.\u001b[0m\u001b[0msend_keys\u001b[0m\u001b[1;33m(\u001b[0m\u001b[0mstr\u001b[0m\u001b[1;33m(\u001b[0m\u001b[0mround\u001b[0m\u001b[1;33m(\u001b[0m\u001b[0mprice\u001b[0m\u001b[1;33m-\u001b[0m \u001b[1;33m(\u001b[0m\u001b[1;36m0.25\u001b[0m \u001b[1;33m*\u001b[0m \u001b[0mprice\u001b[0m\u001b[1;33m)\u001b[0m\u001b[1;33m,\u001b[0m\u001b[1;36m2\u001b[0m\u001b[1;33m)\u001b[0m\u001b[1;33m)\u001b[0m\u001b[1;33m.\u001b[0m\u001b[0mreplace\u001b[0m\u001b[1;33m(\u001b[0m\u001b[1;34m'.'\u001b[0m\u001b[1;33m,\u001b[0m \u001b[1;34m','\u001b[0m\u001b[1;33m)\u001b[0m\u001b[1;33m)\u001b[0m\u001b[1;33m\u001b[0m\u001b[1;33m\u001b[0m\u001b[0m\n\u001b[1;32m---> 14\u001b[1;33m     \u001b[0mtime\u001b[0m\u001b[1;33m.\u001b[0m\u001b[0msleep\u001b[0m\u001b[1;33m(\u001b[0m\u001b[1;36m1\u001b[0m\u001b[1;33m)\u001b[0m\u001b[1;33m\u001b[0m\u001b[1;33m\u001b[0m\u001b[0m\n\u001b[0m\u001b[0;32m     15\u001b[0m     \u001b[0mdriver\u001b[0m\u001b[1;33m.\u001b[0m\u001b[0mfind_element_by_class_name\u001b[0m\u001b[1;33m(\u001b[0m\u001b[1;34m'button-primary.save-variation-changes'\u001b[0m\u001b[1;33m)\u001b[0m\u001b[1;33m.\u001b[0m\u001b[0mclick\u001b[0m\u001b[1;33m(\u001b[0m\u001b[1;33m)\u001b[0m\u001b[1;33m\u001b[0m\u001b[1;33m\u001b[0m\u001b[0m\n\u001b[0;32m     16\u001b[0m     \u001b[0mtime\u001b[0m\u001b[1;33m.\u001b[0m\u001b[0msleep\u001b[0m\u001b[1;33m(\u001b[0m\u001b[1;36m2\u001b[0m\u001b[1;33m)\u001b[0m\u001b[1;33m\u001b[0m\u001b[1;33m\u001b[0m\u001b[0m\n",
      "\u001b[1;31mKeyboardInterrupt\u001b[0m: "
     ]
    }
   ],
   "source": [
    "#Entrar en la página .........\n",
    "import time\n",
    "\n",
    "for n in range(int(driver.find_element_by_class_name('total-pages').text)):\n",
    "    driver.execute_script(\"arguments[0].click();\", driver.find_elements_by_class_name('expand_all')[2])   \n",
    "    for i in range(len(driver.find_elements_by_class_name('woocommerce_variation.wc-metabox.closed') + driver.find_elements_by_class_name('woocommerce_variation.wc-metabox.open'))):\n",
    "        price = get_Medida(dic, i) + get_SdE(SdE, i) + get_LA(LA, i) + get_EAA(EAA, i)\n",
    "        input_price = driver.find_element_by_id(f'variable_regular_price_{i}')\n",
    "        input_price.clear()\n",
    "        input_price.send_keys(str(round(price,2)).replace('.', ','))\n",
    "        price_desc = driver.find_element_by_id(f'variable_sale_price{i}')\n",
    "        price_desc.clear()\n",
    "        price_desc.send_keys(str(round(price- (0.25 * price),2)).replace('.', ','))\n",
    "    time.sleep(1)\n",
    "    driver.find_element_by_class_name('button-primary.save-variation-changes').click()\n",
    "    time.sleep(2)\n",
    "    driver.execute_script(\"arguments[0].click();\", driver.find_element_by_class_name('next-page'))\n",
    "    time.sleep(2)\n",
    "# "
   ]
  },
  {
   "cell_type": "markdown",
   "metadata": {},
   "source": [
    "In case we want to mass delete a product that meets certain criteria "
   ]
  },
  {
   "cell_type": "code",
   "execution_count": 61,
   "metadata": {},
   "outputs": [],
   "source": [
    "#DELETE\n",
    "import time\n",
    "for _ in range(2):\n",
    "    try:\n",
    "        driver.execute_script(\"arguments[0].click();\", driver.find_elements_by_class_name('expand_all')[2])   \n",
    "        for i in range(len(driver.find_elements_by_class_name('woocommerce_variation.wc-metabox.closed') + driver.find_elements_by_class_name('woocommerce_variation.wc-metabox.open'))):\n",
    "            get_Medida(dic, i)\n",
    "        time.sleep(1)\n",
    "        driver.find_element_by_class_name('button-primary.save-variation-changes').click()\n",
    "        time.sleep(2)\n",
    "        driver.execute_script(\"arguments[0].click();\", driver.find_element_by_class_name('next-page'))\n",
    "        time.sleep(2)\n",
    "    except:\n",
    "        pass"
   ]
  },
  {
   "cell_type": "code",
   "execution_count": 64,
   "metadata": {},
   "outputs": [],
   "source": []
  }
 ],
 "metadata": {
  "kernelspec": {
   "display_name": "Python 3",
   "language": "python",
   "name": "python3"
  },
  "language_info": {
   "codemirror_mode": {
    "name": "ipython",
    "version": 3
   },
   "file_extension": ".py",
   "mimetype": "text/x-python",
   "name": "python",
   "nbconvert_exporter": "python",
   "pygments_lexer": "ipython3",
   "version": "3.7.4"
  }
 },
 "nbformat": 4,
 "nbformat_minor": 2
}
